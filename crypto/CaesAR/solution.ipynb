{
 "cells": [
  {
   "cell_type": "markdown",
   "metadata": {},
   "source": [
    "# CaesAR"
   ]
  },
  {
   "cell_type": "code",
   "execution_count": 1,
   "metadata": {},
   "outputs": [],
   "source": [
    "import matplotlib.pyplot as plt\n",
    "import numpy as np\n",
    "from collections import Counter"
   ]
  },
  {
   "cell_type": "code",
   "execution_count": 2,
   "metadata": {},
   "outputs": [],
   "source": [
    "def chunks(lst, n):\n",
    "    ret = []\n",
    "    for i in range(0, len(lst), n):\n",
    "        ret.append(lst[i : i + n])\n",
    "    return ret"
   ]
  },
  {
   "cell_type": "code",
   "execution_count": 3,
   "metadata": {},
   "outputs": [],
   "source": [
    "CT = \"\"\n",
    "with open(\"FileEncrypted.txt\", \"r\") as f:\n",
    "    CT = f.read()"
   ]
  },
  {
   "cell_type": "markdown",
   "metadata": {},
   "source": [
    "We know that encrypted blocks are 16 bytes long so 32 hex chars"
   ]
  },
  {
   "cell_type": "code",
   "execution_count": 4,
   "metadata": {},
   "outputs": [
    {
     "name": "stdout",
     "output_type": "stream",
     "text": [
      "990569\n",
      "93\n"
     ]
    }
   ],
   "source": [
    "CT_32 = chunks(CT, 32)\n",
    "print(len(CT_32))\n",
    "\n",
    "C = Counter(CT_32)  # Counter is the perfect tool for frequency analysis\n",
    "print(len(C))"
   ]
  },
  {
   "cell_type": "markdown",
   "metadata": {},
   "source": [
    "This is very promissing.. We have nearly 10x more elements than classes"
   ]
  },
  {
   "cell_type": "markdown",
   "metadata": {},
   "source": [
    "Let's plot our distribution"
   ]
  },
  {
   "cell_type": "code",
   "execution_count": 5,
   "metadata": {},
   "outputs": [
    {
     "data": {
      "image/png": "[encoded data removed]",
      "text/plain": [
       "<Figure size 640x480 with 1 Axes>"
      ]
     },
     "metadata": {},
     "output_type": "display_data"
    }
   ],
   "source": [
    "x = np.array(range(len(C.keys())))\n",
    "y = np.array([(x / len(CT_32)) * 100 for x in C.values()])\n",
    "\n",
    "plt.bar(x, y)\n",
    "plt.show()"
   ]
  },
  {
   "cell_type": "markdown",
   "metadata": {},
   "source": [
    "The most frequent character in a corpus of text is .... space!"
   ]
  },
  {
   "cell_type": "code",
   "execution_count": 6,
   "metadata": {},
   "outputs": [
    {
     "name": "stdout",
     "output_type": "stream",
     "text": [
      "DE76BA6BDFB4367B8E405C20F51BE426\n"
     ]
    }
   ],
   "source": [
    "most_common = [x[0] for x in C.most_common()]\n",
    "print(most_common[0])"
   ]
  },
  {
   "cell_type": "markdown",
   "metadata": {},
   "source": [
    "This is our \"workbench\", I edit the letters list (often simply making a permutiation) then observe the results, both for our word frequency and output text."
   ]
  },
  {
   "cell_type": "code",
   "execution_count": 7,
   "metadata": {},
   "outputs": [],
   "source": [
    "letters = [\n",
    "    \" \",\n",
    "    \"e\",\n",
    "    \"t\",\n",
    "    \"a\",\n",
    "    \"o\",\n",
    "    \"n\",\n",
    "    \"h\",\n",
    "    \"i\",\n",
    "    \"r\",\n",
    "    \"s\",\n",
    "    \"d\",\n",
    "    \"l\",\n",
    "    \"w\",\n",
    "    \"u\",\n",
    "    \"g\",\n",
    "    \"f\",\n",
    "    \"m\",\n",
    "    \"y\",\n",
    "    \"c\",\n",
    "    \",\",\n",
    "    \".\",\n",
    "    \"b\",\n",
    "    \"p\",\n",
    "    \"'\",\n",
    "    \"k\",\n",
    "    \"v\",\n",
    "    \"\\r\",\n",
    "    \"\\n\",\n",
    "    \"I\",\n",
    "    \"T\",\n",
    "    \"B\",\n",
    "    \"S\",\n",
    "    \"F\",\n",
    "    \"A\",\n",
    "    \"X\",\n",
    "    \"H\",\n",
    "    \"-\",\n",
    "    \";\",\n",
    "    \"G\",\n",
    "    \"W\",\n",
    "    \"M\",\n",
    "    \"Q\",\n",
    "    \"E\",\n",
    "    \"R\",\n",
    "    \"Z\",\n",
    "    \"?\",\n",
    "    \":\",\n",
    "    \"N\",\n",
    "    \"L\",\n",
    "    \"O\",\n",
    "    \"D\",\n",
    "    \"Y\",\n",
    "    \"C\",\n",
    "    \"U\",\n",
    "    \"P\",\n",
    "    \"q\",\n",
    "    \"=\",\n",
    "    \"0\",\n",
    "    \"z\",\n",
    "    \">\",\n",
    "    \"j\",\n",
    "    \"V\",\n",
    "    \"*\",\n",
    "    \"&\",\n",
    "    \"K\",\n",
    "    \"#\",\n",
    "    \"!\",\n",
    "    \"_\",\n",
    "    \"1\",\n",
    "    \"J\",\n",
    "    \"{\",\n",
    "    \"}\",\n",
    "    \"$\",\n",
    "    \"2\",\n",
    "    \"<\",\n",
    "    \"3\",\n",
    "    \"4\",\n",
    "    \"0\",\n",
    "    \"6\",\n",
    "    \"9\",\n",
    "    \"8\",\n",
    "    \"7\",\n",
    "    \"5\",\n",
    "    \"x\",\n",
    "    \"\\\"\"\n",
    "]"
   ]
  },
  {
   "cell_type": "markdown",
   "metadata": {},
   "source": [
    "Perform the substitution (this is quite slow)"
   ]
  },
  {
   "cell_type": "code",
   "execution_count": 8,
   "metadata": {},
   "outputs": [],
   "source": [
    "out = \"\"\n",
    "for chunk in CT_32:\n",
    "    idx = most_common.index(chunk)\n",
    "    if idx < len(letters):\n",
    "        out += letters[idx]\n",
    "    else:\n",
    "        out += \"?\""
   ]
  },
  {
   "cell_type": "markdown",
   "metadata": {},
   "source": [
    "Save the result to a file for easy viewing"
   ]
  },
  {
   "cell_type": "code",
   "execution_count": 9,
   "metadata": {},
   "outputs": [],
   "source": [
    "with open(\"out.txt\", 'w') as f:\n",
    "    f.write(out)"
   ]
  },
  {
   "cell_type": "markdown",
   "metadata": {},
   "source": [
    "Word frequency analysis"
   ]
  },
  {
   "cell_type": "code",
   "execution_count": 10,
   "metadata": {},
   "outputs": [],
   "source": [
    "Words = Counter(out.split(\" \"))"
   ]
  },
  {
   "cell_type": "code",
   "execution_count": 11,
   "metadata": {},
   "outputs": [
    {
     "data": {
      "text/plain": [
       "[('the', 10520),\n",
       " ('and', 6924),\n",
       " ('of', 4910),\n",
       " ('to', 3794),\n",
       " ('a', 3497),\n",
       " ('in', 2638),\n",
       " ('was', 2404),\n",
       " ('he', 2220),\n",
       " ('that', 2216),\n",
       " ('I', 2118),\n",
       " ('it', 1625),\n",
       " ('they', 1511),\n",
       " ('his', 1478),\n",
       " ('not', 1287),\n",
       " ('you', 1275),\n",
       " ('is', 1241),\n",
       " ('as', 1238),\n",
       " ('had', 1227),\n",
       " ('for', 1224),\n",
       " ('said', 1162),\n",
       " ('on', 1104),\n",
       " ('with', 1056),\n",
       " ('were', 1008),\n",
       " ('at', 1003),\n",
       " ('have', 963),\n",
       " ('but', 944),\n",
       " ('be', 831),\n",
       " ('from', 710),\n",
       " ('all', 696),\n",
       " ('we', 690)]"
      ]
     },
     "execution_count": 11,
     "metadata": {},
     "output_type": "execute_result"
    }
   ],
   "source": [
    "Words.most_common(30)"
   ]
  },
  {
   "cell_type": "markdown",
   "metadata": {},
   "source": [
    "`ECW{N0wD0n'tB3H4sty,M4st3rM3r14d0c}`"
   ]
  }
 ],
 "metadata": {
  "kernelspec": {
   "display_name": ".venv",
   "language": "python",
   "name": "python3"
  },
  "language_info": {
   "codemirror_mode": {
    "name": "ipython",
    "version": 3
   },
   "file_extension": ".py",
   "mimetype": "text/x-python",
   "name": "python",
   "nbconvert_exporter": "python",
   "pygments_lexer": "ipython3",
   "version": "3.12.6"
  }
 },
 "nbformat": 4,
 "nbformat_minor": 2
}
