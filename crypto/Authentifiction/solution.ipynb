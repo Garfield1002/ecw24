{
 "cells": [
  {
   "cell_type": "markdown",
   "metadata": {},
   "source": [
    "# Authentifiction"
   ]
  },
  {
   "cell_type": "code",
   "execution_count": 1,
   "metadata": {},
   "outputs": [],
   "source": [
    "from pwn import *\n",
    "import json\n",
    "import os"
   ]
  },
  {
   "cell_type": "code",
   "execution_count": 2,
   "metadata": {},
   "outputs": [],
   "source": [
    "CHALLENGE_LENGTH    = 16\n",
    "USER_NAME           = \"AbyssOverlord\"\n",
    "\n",
    "HOST                = \"challenges.challenge-ecw.eu\"\n",
    "PORT                = \"38447\""
   ]
  },
  {
   "cell_type": "code",
   "execution_count": 3,
   "metadata": {},
   "outputs": [],
   "source": [
    "def x(l1, l2):\n",
    "    '''\n",
    "    XORs 2 lists\n",
    "    '''\n",
    "    return [c1 ^ c2 for (c1, c2) in zip(l1, l2)]\n",
    "\n",
    "\n",
    "def init_auth(s, challenge):\n",
    "    request = {\n",
    "        \"option\": \"auth_init\",\n",
    "        \"user_name\": USER_NAME,\n",
    "        \"client_challenge\": challenge.hex(),\n",
    "    }\n",
    "    s.sendline(json.dumps(request).encode())\n",
    "    data = s.recv(1024, timeout=1)\n",
    "    response = json.loads(data.decode())\n",
    "    salt = response[\"salt\"]\n",
    "    server_challenge = bytes.fromhex(response[\"server_challenge\"])\n",
    "    server_proof = bytes.fromhex(response[\"server_proof\"])\n",
    "    return {\"salt\": salt, \"challenge\": server_challenge, \"proof\": server_proof}"
   ]
  },
  {
   "cell_type": "code",
   "execution_count": 4,
   "metadata": {},
   "outputs": [
    {
     "name": "stdout",
     "output_type": "stream",
     "text": [
      "[x] Opening connection to challenges.challenge-ecw.eu on port 38447\n",
      "[x] Opening connection to challenges.challenge-ecw.eu on port 38447: Trying 141.94.137.179\n",
      "[+] Opening connection to challenges.challenge-ecw.eu on port 38447: Done\n"
     ]
    },
    {
     "data": {
      "text/plain": [
       "{'salt': 'efca3f0a829c3eead647474b1c506226',\n",
       " 'challenge': b'#%C]*c\\x99\\x96\\x1b\\x04\\xbe\\xb5\\x02\\xf3\\x8ay',\n",
       " 'proof': b'\\x05 \\xb1\\xc9\\x13]\\xa7+f\"\\xb1\\x1f\\xfb\\x81f\\x19]\\xd6,<\\x85\\x7fDl\\x8a\\xea\\xd1;\\xfb5\\xab\\xf4\\xfe\\x0f\\x92\\xc1h\\xf9\\xb7\\x8b\\xd7\\x16D\\x1c\\x0eZ\\xda\\xf6fn\\xc3'}"
      ]
     },
     "execution_count": 4,
     "metadata": {},
     "output_type": "execute_result"
    }
   ],
   "source": [
    "conn = remote(HOST, PORT)\n",
    "# OUR first challenge can be random, it doesn't matter\n",
    "client_challenge = os.urandom(CHALLENGE_LENGTH)\n",
    "r1 = init_auth(conn, client_challenge)\n",
    "r1"
   ]
  },
  {
   "cell_type": "markdown",
   "metadata": {},
   "source": [
    "Here is the vulnerability in the challenge:\n",
    "\n",
    "We now creates a new connection and kindly ask the server to encrypt the challenge for us.\n",
    "\n",
    "Doing so provides us with a plaintext(`PT`)/ciphertext(`CT`) pair"
   ]
  },
  {
   "cell_type": "code",
   "execution_count": 5,
   "metadata": {},
   "outputs": [
    {
     "name": "stdout",
     "output_type": "stream",
     "text": [
      "[x] Opening connection to challenges.challenge-ecw.eu on port 38447\n",
      "[x] Opening connection to challenges.challenge-ecw.eu on port 38447: Trying 141.94.137.179\n",
      "[+] Opening connection to challenges.challenge-ecw.eu on port 38447: Done\n"
     ]
    },
    {
     "data": {
      "text/plain": [
       "{'salt': 'efca3f0a829c3eead647474b1c506226',\n",
       " 'challenge': b'?l7A\\x82\\xe9\\x87$5t)\\xf9q\\t\\xecS',\n",
       " 'proof': b')\\xde\\xa6\\xf4\\xa4\\xbc\\xff\\xd6\\xda\\xe2\\x8f\\x7f\\xbd^\\x83\\xec\\x98\\xc1/M\\xa1\\x12V\\xa8\\x8d\\x93\\x01\\x950[\\xc87\\xabS5\\xc9R@\\xf5\\x0c\\x1azK\\xa7\\x08-OJA\\xae`'}"
      ]
     },
     "execution_count": 5,
     "metadata": {},
     "output_type": "execute_result"
    }
   ],
   "source": [
    "server_challenge = r1[\"challenge\"]\n",
    "r2 = init_auth(remote(HOST, PORT), server_challenge)\n",
    "r2"
   ]
  },
  {
   "cell_type": "markdown",
   "metadata": {},
   "source": [
    "Because of how ECB works, we need to seperate the IV from the ciphered block, and xor the plaintext with the provided IV"
   ]
  },
  {
   "cell_type": "code",
   "execution_count": 6,
   "metadata": {},
   "outputs": [
    {
     "name": "stdout",
     "output_type": "stream",
     "text": [
      "b'\\n\\xfb\\xe5\\xa9\\x8e\\xdff@\\xc1\\xe61\\xca\\xbf\\xad\\t\\x95'\n",
      "b'\\x98\\xc1/M\\xa1\\x12V\\xa8\\x8d\\x93\\x01\\x950[\\xc87'\n"
     ]
    }
   ],
   "source": [
    "proof = r2[\"proof\"]\n",
    "iv, CT = proof[:16], proof[16:32]\n",
    "PT = x(list(server_challenge), iv)\n",
    "\n",
    "print(bytes(PT))\n",
    "print(bytes(CT))"
   ]
  },
  {
   "cell_type": "code",
   "execution_count": 7,
   "metadata": {},
   "outputs": [
    {
     "data": {
      "text/plain": [
       "{'authenticated': True, 'message': 'Welcome AbyssOverlord'}"
      ]
     },
     "execution_count": 7,
     "metadata": {},
     "output_type": "execute_result"
    }
   ],
   "source": [
    "forged = proof[:-3] + bytes(CT) + bytes(x(PT, list(b\"client\")))\n",
    "\n",
    "request = {\"option\": \"auth_proof\", \"client_proof\": forged.hex()}\n",
    "\n",
    "conn.sendline(json.dumps(request).encode())\n",
    "data = conn.recv(1024, timeout=1)\n",
    "response = json.loads(data.decode())\n",
    "response"
   ]
  },
  {
   "cell_type": "code",
   "execution_count": 8,
   "metadata": {},
   "outputs": [
    {
     "name": "stdout",
     "output_type": "stream",
     "text": [
      "[*] Closed connection to challenges.challenge-ecw.eu port 38447\n",
      "\n",
      "===========================================================================\n",
      "Operation Blackout: A Strategic Assault on Europe's Internet Infrastructure\n",
      "===========================================================================\n",
      "\n",
      "This document outlines the comprehensive plan devised to exploit vulnerabilities\n",
      "in Europe's internet infrastructure, leveraging advanced AI tools to orchestrate\n",
      "a large-scale cyber attack. The primary objective is to disrupt the continuity of\n",
      "essential services, compromise the integrity of critical data lakes, destabilize\n",
      "supply chains, and challenge the defense mechanisms of European nations.\n",
      "This operation, codenamed Operation Blackout, is intended to instigate economic\n",
      "and security chaos on a global scale.\n",
      "\n",
      "Objectives\n",
      "  - Disrupt Internet Services: Target key internet exchange points (IXPs)\n",
      "    and submarine cables connecting Europe to the global internet.\n",
      "  - Compromise Data Integrity: Infiltrate data lakes and corrupt or exfiltrate\n",
      "    sensitive information.\n",
      "  - Destabilize Supply Chains: Attack logistics and supply chain management systems\n",
      "    to create widespread shortages and delays.\n",
      "  - Undermine Public Trust: Launch misinformation campaigns to sow distrust in\n",
      "    government and institutions.\n",
      "\n",
      "------------------------------------------------\n",
      "Phase 1: Reconnaissance and Initial Infiltration\n",
      "------------------------------------------------\n",
      "\n",
      "Target Identification\n",
      "  - IXPs and Data Centers: Identify the most critical IXPs and data centers across\n",
      "    Europe. Key targets include DE-CIX (Germany), LINX (UK), and AMS-IX (Netherlands).\n",
      "  - Submarine Cables: Pinpoint landing points and maintenance hubs for critical\n",
      "    submarine cables such as AEC-1, FLAG Europe-Asia, and SEA-ME-WE 3.\n",
      "\n",
      "Vulnerability Assessment\n",
      "  - Conduct thorough scans and analyses to identify security gaps in network\n",
      "    infrastructure, data centers, and supply chain systems.\n",
      "  - Use AI-powered tools to simulate attack vectors and predict defensive responses.\n",
      "\n",
      "---------------------------\n",
      "Phase 2: Coordinated Attack\n",
      "---------------------------\n",
      "\n",
      "Cyber Assault\n",
      "  - Deploy distributed denial-of-service (DDoS) attacks to overwhelm IXPs and key\n",
      "    data centers, causing widespread internet outages.\n",
      "  - Utilize AI-driven malware to infiltrate and corrupt data lakes, ensuring the\n",
      "    disruption of data integrity and availability.\n",
      "\n",
      "Physical Sabotage\n",
      "  - Coordinate with local operatives to sabotage physical infrastructure at critical\n",
      "    junctures, including the severing of submarine cables at vulnerable points.\n",
      "\n",
      "-----------------------------\n",
      "Phase 3: Sustained Disruption\n",
      "-----------------------------\n",
      "\n",
      "Supply Chain Attack\n",
      "  - Infiltrate logistics and supply chain management systems to disrupt the flow\n",
      "    of goods and services.\n",
      "  - Target major ports, railway systems, and freight management networks to\n",
      "    amplify the chaos.\n",
      "\n",
      "Psychological Warfare\n",
      "  - Launch coordinated misinformation campaigns across social media and news outlets\n",
      "    to exacerbate public panic and distrust in authorities.\n",
      "  - Exploit AI to create deepfakes and false narratives that fuel unrest and division.\n",
      "\n",
      "----------------------------------------\n",
      "Countermeasures and Anticipated Defenses\n",
      "----------------------------------------\n",
      "\n",
      "We anticipate robust countermeasures from European cybersecurity experts and armed forces.\n",
      "Their strategies likely include:\n",
      "  - Enhanced Network Monitoring: Real-time monitoring and anomaly detection to identify\n",
      "    and mitigate DDoS attacks.\n",
      "  - AI-Driven Defense Systems: Deployment of AI tools for rapid threat detection and response.\n",
      "  - Physical Security: Increased protection of critical infrastructure points,\n",
      "    including data centers and submarine cable landing stations.\n",
      "  - Public Communication: Transparent and timely communication to the public to maintain\n",
      "    trust and order.\n",
      "\n",
      "----------\n",
      "Conclusion\n",
      "----------\n",
      "\n",
      "Operation Blackout represents a formidable challenge to Europe's cybersecurity\n",
      "and defense capabilities. The success of this operation hinges on precise execution,\n",
      "coordination, and the ability to stay ahead of defensive measures.\n",
      "By crippling Europe's internet infrastructure and causing widespread disruption,\n",
      "we aim to catalyze a global economic and security crisis.\n",
      "ECW{authentifiction_9xniWVYniWzBmnq9cPG5FP1W}\n",
      "\n"
     ]
    }
   ],
   "source": [
    "request = {\"option\": \"get_file\"}\n",
    "conn.sendline(json.dumps(request).encode())\n",
    "file_content = b\"\"\n",
    "while True:\n",
    "    data = conn.recv(1024, timeout=5)\n",
    "    file_content += data\n",
    "    if len(data) < 1024:\n",
    "        break\n",
    "\n",
    "conn.close()\n",
    "print(file_content.decode())"
   ]
  },
  {
   "cell_type": "markdown",
   "metadata": {},
   "source": [
    "`ECW{authentifiction_9xniWVYniWzBmnq9cPG5FP1W}`"
   ]
  }
 ],
 "metadata": {
  "kernelspec": {
   "display_name": ".venv",
   "language": "python",
   "name": "python3"
  },
  "language_info": {
   "codemirror_mode": {
    "name": "ipython",
    "version": 3
   },
   "file_extension": ".py",
   "mimetype": "text/x-python",
   "name": "python",
   "nbconvert_exporter": "python",
   "pygments_lexer": "ipython3",
   "version": "3.12.6"
  }
 },
 "nbformat": 4,
 "nbformat_minor": 2
}
